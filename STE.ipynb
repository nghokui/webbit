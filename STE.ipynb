{
 "cells": [
  {
   "cell_type": "code",
   "execution_count": 10,
   "metadata": {},
   "outputs": [],
   "source": [
    "import requests\n",
    "import json"
   ]
  },
  {
   "cell_type": "code",
   "execution_count": 11,
   "metadata": {},
   "outputs": [],
   "source": [
    "BASE_URL = 'https://www.reddit.com/'\n",
    "URL_REDIRECT = 'http://localhost:8888/'\n",
    "\n",
    "APP_ID = '3vFty7iieU0_CQ'\n",
    "with open('config/key.key', 'r') as kfile:\n",
    "    APP_SECRET = kfile.read()\n",
    "    \n",
    "with open('config/user.json', 'r') as jfile:\n",
    "    userData = json.load(jfile)\n",
    "    USERNAME = userData['USERNAME']\n",
    "    PASSWORD = userData['PASSWORD']"
   ]
  },
  {
   "cell_type": "markdown",
   "metadata": {},
   "source": [
    "<h2>References</h2>\n",
    "<a link=\"https://alpscode.com/blog/how-to-use-reddit-api/\">API Help</a>"
   ]
  },
  {
   "cell_type": "code",
   "execution_count": 14,
   "metadata": {},
   "outputs": [
    {
     "name": "stdout",
     "output_type": "stream",
     "text": [
      "nghokui 1267\n"
     ]
    }
   ],
   "source": [
    "# Prepare the arguments for retrieving access\n",
    "data = {\n",
    "    'grant_type': 'password',\n",
    "    'username': USERNAME,\n",
    "    'password': PASSWORD\n",
    "}\n",
    "auth = requests.auth.HTTPBasicAuth(APP_ID, APP_SECRET)\n",
    "\n",
    "# Authorize the user\n",
    "r = requests.post(\n",
    "    BASE_URL + 'api/v1/access_token',\n",
    "    data = data,\n",
    "    headers={'user-agent': 'webbit by /u/nghokui'},\n",
    "    auth=auth\n",
    ")\n",
    "d = r.json()\n",
    "\n",
    "# Create constants from results\n",
    "token = 'bearer ' + d['access_token']\n",
    "\n",
    "BASE_URL = 'https://oauth.reddit.com'\n",
    "HEADERS = {\n",
    "    'Authorization': token,\n",
    "    'User-Agent': 'webbit by /u/nghokui'\n",
    "}\n",
    "\n",
    "# Test\n",
    "response = requests.get(BASE_URL + '/api/v1/me', headers=HEADERS)\n",
    "\n",
    "if response.status_code == 200:\n",
    "    print(response.json()['name'], response.json()['comment_karma'])\n",
    "else:\n",
    "    print('Failed to correctly retrieve authorization token.')"
   ]
  },
  {
   "cell_type": "code",
   "execution_count": 13,
   "metadata": {},
   "outputs": [
    {
     "data": {
      "text/plain": [
       "{'access_token': '22410692-eaiqDC-Zw3fLfacsWGTKtHLYZGo',\n",
       " 'token_type': 'bearer',\n",
       " 'expires_in': 3600,\n",
       " 'scope': '*'}"
      ]
     },
     "execution_count": 13,
     "metadata": {},
     "output_type": "execute_result"
    }
   ],
   "source": [
    "d"
   ]
  },
  {
   "cell_type": "code",
   "execution_count": null,
   "metadata": {},
   "outputs": [],
   "source": []
  }
 ],
 "metadata": {
  "kernelspec": {
   "display_name": "Python 3",
   "language": "python",
   "name": "python3"
  },
  "language_info": {
   "codemirror_mode": {
    "name": "ipython",
    "version": 3
   },
   "file_extension": ".py",
   "mimetype": "text/x-python",
   "name": "python",
   "nbconvert_exporter": "python",
   "pygments_lexer": "ipython3",
   "version": "3.7.4"
  },
  "varInspector": {
   "cols": {
    "lenName": 16,
    "lenType": 16,
    "lenVar": 40
   },
   "kernels_config": {
    "python": {
     "delete_cmd_postfix": "",
     "delete_cmd_prefix": "del ",
     "library": "var_list.py",
     "varRefreshCmd": "print(var_dic_list())"
    },
    "r": {
     "delete_cmd_postfix": ") ",
     "delete_cmd_prefix": "rm(",
     "library": "var_list.r",
     "varRefreshCmd": "cat(var_dic_list()) "
    }
   },
   "types_to_exclude": [
    "module",
    "function",
    "builtin_function_or_method",
    "instance",
    "_Feature"
   ],
   "window_display": false
  }
 },
 "nbformat": 4,
 "nbformat_minor": 2
}
